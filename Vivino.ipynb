{
 "cells": [
  {
   "cell_type": "code",
   "execution_count": 1,
   "id": "645ce72c",
   "metadata": {},
   "outputs": [],
   "source": [
    "from selenium import webdriver\n",
    "#chrome_options = webdriver.ChromeOptions()\n",
    "#chrome_options.add_argument('--headless')\n",
    "#chrome_options.add_argument('--no-sandbox')\n",
    "#chrome_options.add_argument('--disable-dev-shm-usage')\n",
    "driver = webdriver.Chrome() #,chrome_options=chrome_options)"
   ]
  },
  {
   "cell_type": "code",
   "execution_count": 2,
   "id": "7bfce54b",
   "metadata": {},
   "outputs": [],
   "source": [
    "driver.get('https://www.vivino.com/explore?e=eJzLLbI11rNQy83MszVQy02ssDU2UEuutPXzUUu2dQ0NUiuwNVRLT7MtSyzKTC1JzFHLL0qxVctPqrRVKy-JjrU1BAB8WRQ8')"
   ]
  },
  {
   "cell_type": "code",
   "execution_count": 3,
   "id": "c6b7da45",
   "metadata": {},
   "outputs": [],
   "source": [
    "element = driver.find_element_by_class_name('layout__inner--3JC-x')"
   ]
  },
  {
   "cell_type": "code",
   "execution_count": null,
   "id": "9a57488c",
   "metadata": {},
   "outputs": [],
   "source": [
    "\n",
    "        \n",
    "    "
   ]
  },
  {
   "cell_type": "code",
   "execution_count": 15,
   "id": "ee85eaab",
   "metadata": {},
   "outputs": [
    {
     "ename": "WebDriverException",
     "evalue": "Message: chrome not reachable\n  (Session info: chrome=93.0.4577.82)\n",
     "output_type": "error",
     "traceback": [
      "\u001b[1;31m---------------------------------------------------------------------------\u001b[0m",
      "\u001b[1;31mWebDriverException\u001b[0m                        Traceback (most recent call last)",
      "\u001b[1;32m<ipython-input-15-a9846948467a>\u001b[0m in \u001b[0;36m<module>\u001b[1;34m\u001b[0m\n\u001b[1;32m----> 1\u001b[1;33m \u001b[0melementtekst\u001b[0m \u001b[1;33m=\u001b[0m \u001b[0melement\u001b[0m\u001b[1;33m.\u001b[0m\u001b[0mtext\u001b[0m\u001b[1;33m\u001b[0m\u001b[1;33m\u001b[0m\u001b[0m\n\u001b[0m\u001b[0;32m      2\u001b[0m \u001b[0mprint\u001b[0m\u001b[1;33m(\u001b[0m\u001b[0melementtekst\u001b[0m\u001b[1;33m)\u001b[0m\u001b[1;33m\u001b[0m\u001b[1;33m\u001b[0m\u001b[0m\n",
      "\u001b[1;32m~\\Documents\\a\\lib\\site-packages\\selenium\\webdriver\\remote\\webelement.py\u001b[0m in \u001b[0;36mtext\u001b[1;34m(self)\u001b[0m\n\u001b[0;32m     74\u001b[0m     \u001b[1;32mdef\u001b[0m \u001b[0mtext\u001b[0m\u001b[1;33m(\u001b[0m\u001b[0mself\u001b[0m\u001b[1;33m)\u001b[0m\u001b[1;33m:\u001b[0m\u001b[1;33m\u001b[0m\u001b[1;33m\u001b[0m\u001b[0m\n\u001b[0;32m     75\u001b[0m         \u001b[1;34m\"\"\"The text of the element.\"\"\"\u001b[0m\u001b[1;33m\u001b[0m\u001b[1;33m\u001b[0m\u001b[0m\n\u001b[1;32m---> 76\u001b[1;33m         \u001b[1;32mreturn\u001b[0m \u001b[0mself\u001b[0m\u001b[1;33m.\u001b[0m\u001b[0m_execute\u001b[0m\u001b[1;33m(\u001b[0m\u001b[0mCommand\u001b[0m\u001b[1;33m.\u001b[0m\u001b[0mGET_ELEMENT_TEXT\u001b[0m\u001b[1;33m)\u001b[0m\u001b[1;33m[\u001b[0m\u001b[1;34m'value'\u001b[0m\u001b[1;33m]\u001b[0m\u001b[1;33m\u001b[0m\u001b[1;33m\u001b[0m\u001b[0m\n\u001b[0m\u001b[0;32m     77\u001b[0m \u001b[1;33m\u001b[0m\u001b[0m\n\u001b[0;32m     78\u001b[0m     \u001b[1;32mdef\u001b[0m \u001b[0mclick\u001b[0m\u001b[1;33m(\u001b[0m\u001b[0mself\u001b[0m\u001b[1;33m)\u001b[0m\u001b[1;33m:\u001b[0m\u001b[1;33m\u001b[0m\u001b[1;33m\u001b[0m\u001b[0m\n",
      "\u001b[1;32m~\\Documents\\a\\lib\\site-packages\\selenium\\webdriver\\remote\\webelement.py\u001b[0m in \u001b[0;36m_execute\u001b[1;34m(self, command, params)\u001b[0m\n\u001b[0;32m    631\u001b[0m             \u001b[0mparams\u001b[0m \u001b[1;33m=\u001b[0m \u001b[1;33m{\u001b[0m\u001b[1;33m}\u001b[0m\u001b[1;33m\u001b[0m\u001b[1;33m\u001b[0m\u001b[0m\n\u001b[0;32m    632\u001b[0m         \u001b[0mparams\u001b[0m\u001b[1;33m[\u001b[0m\u001b[1;34m'id'\u001b[0m\u001b[1;33m]\u001b[0m \u001b[1;33m=\u001b[0m \u001b[0mself\u001b[0m\u001b[1;33m.\u001b[0m\u001b[0m_id\u001b[0m\u001b[1;33m\u001b[0m\u001b[1;33m\u001b[0m\u001b[0m\n\u001b[1;32m--> 633\u001b[1;33m         \u001b[1;32mreturn\u001b[0m \u001b[0mself\u001b[0m\u001b[1;33m.\u001b[0m\u001b[0m_parent\u001b[0m\u001b[1;33m.\u001b[0m\u001b[0mexecute\u001b[0m\u001b[1;33m(\u001b[0m\u001b[0mcommand\u001b[0m\u001b[1;33m,\u001b[0m \u001b[0mparams\u001b[0m\u001b[1;33m)\u001b[0m\u001b[1;33m\u001b[0m\u001b[1;33m\u001b[0m\u001b[0m\n\u001b[0m\u001b[0;32m    634\u001b[0m \u001b[1;33m\u001b[0m\u001b[0m\n\u001b[0;32m    635\u001b[0m     \u001b[1;32mdef\u001b[0m \u001b[0mfind_element\u001b[0m\u001b[1;33m(\u001b[0m\u001b[0mself\u001b[0m\u001b[1;33m,\u001b[0m \u001b[0mby\u001b[0m\u001b[1;33m=\u001b[0m\u001b[0mBy\u001b[0m\u001b[1;33m.\u001b[0m\u001b[0mID\u001b[0m\u001b[1;33m,\u001b[0m \u001b[0mvalue\u001b[0m\u001b[1;33m=\u001b[0m\u001b[1;32mNone\u001b[0m\u001b[1;33m)\u001b[0m\u001b[1;33m:\u001b[0m\u001b[1;33m\u001b[0m\u001b[1;33m\u001b[0m\u001b[0m\n",
      "\u001b[1;32m~\\Documents\\a\\lib\\site-packages\\selenium\\webdriver\\remote\\webdriver.py\u001b[0m in \u001b[0;36mexecute\u001b[1;34m(self, driver_command, params)\u001b[0m\n\u001b[0;32m    319\u001b[0m         \u001b[0mresponse\u001b[0m \u001b[1;33m=\u001b[0m \u001b[0mself\u001b[0m\u001b[1;33m.\u001b[0m\u001b[0mcommand_executor\u001b[0m\u001b[1;33m.\u001b[0m\u001b[0mexecute\u001b[0m\u001b[1;33m(\u001b[0m\u001b[0mdriver_command\u001b[0m\u001b[1;33m,\u001b[0m \u001b[0mparams\u001b[0m\u001b[1;33m)\u001b[0m\u001b[1;33m\u001b[0m\u001b[1;33m\u001b[0m\u001b[0m\n\u001b[0;32m    320\u001b[0m         \u001b[1;32mif\u001b[0m \u001b[0mresponse\u001b[0m\u001b[1;33m:\u001b[0m\u001b[1;33m\u001b[0m\u001b[1;33m\u001b[0m\u001b[0m\n\u001b[1;32m--> 321\u001b[1;33m             \u001b[0mself\u001b[0m\u001b[1;33m.\u001b[0m\u001b[0merror_handler\u001b[0m\u001b[1;33m.\u001b[0m\u001b[0mcheck_response\u001b[0m\u001b[1;33m(\u001b[0m\u001b[0mresponse\u001b[0m\u001b[1;33m)\u001b[0m\u001b[1;33m\u001b[0m\u001b[1;33m\u001b[0m\u001b[0m\n\u001b[0m\u001b[0;32m    322\u001b[0m             response['value'] = self._unwrap_value(\n\u001b[0;32m    323\u001b[0m                 response.get('value', None))\n",
      "\u001b[1;32m~\\Documents\\a\\lib\\site-packages\\selenium\\webdriver\\remote\\errorhandler.py\u001b[0m in \u001b[0;36mcheck_response\u001b[1;34m(self, response)\u001b[0m\n\u001b[0;32m    240\u001b[0m                 \u001b[0malert_text\u001b[0m \u001b[1;33m=\u001b[0m \u001b[0mvalue\u001b[0m\u001b[1;33m[\u001b[0m\u001b[1;34m'alert'\u001b[0m\u001b[1;33m]\u001b[0m\u001b[1;33m.\u001b[0m\u001b[0mget\u001b[0m\u001b[1;33m(\u001b[0m\u001b[1;34m'text'\u001b[0m\u001b[1;33m)\u001b[0m\u001b[1;33m\u001b[0m\u001b[1;33m\u001b[0m\u001b[0m\n\u001b[0;32m    241\u001b[0m             \u001b[1;32mraise\u001b[0m \u001b[0mexception_class\u001b[0m\u001b[1;33m(\u001b[0m\u001b[0mmessage\u001b[0m\u001b[1;33m,\u001b[0m \u001b[0mscreen\u001b[0m\u001b[1;33m,\u001b[0m \u001b[0mstacktrace\u001b[0m\u001b[1;33m,\u001b[0m \u001b[0malert_text\u001b[0m\u001b[1;33m)\u001b[0m\u001b[1;33m\u001b[0m\u001b[1;33m\u001b[0m\u001b[0m\n\u001b[1;32m--> 242\u001b[1;33m         \u001b[1;32mraise\u001b[0m \u001b[0mexception_class\u001b[0m\u001b[1;33m(\u001b[0m\u001b[0mmessage\u001b[0m\u001b[1;33m,\u001b[0m \u001b[0mscreen\u001b[0m\u001b[1;33m,\u001b[0m \u001b[0mstacktrace\u001b[0m\u001b[1;33m)\u001b[0m\u001b[1;33m\u001b[0m\u001b[1;33m\u001b[0m\u001b[0m\n\u001b[0m\u001b[0;32m    243\u001b[0m \u001b[1;33m\u001b[0m\u001b[0m\n\u001b[0;32m    244\u001b[0m     \u001b[1;32mdef\u001b[0m \u001b[0m_value_or_default\u001b[0m\u001b[1;33m(\u001b[0m\u001b[0mself\u001b[0m\u001b[1;33m,\u001b[0m \u001b[0mobj\u001b[0m\u001b[1;33m,\u001b[0m \u001b[0mkey\u001b[0m\u001b[1;33m,\u001b[0m \u001b[0mdefault\u001b[0m\u001b[1;33m)\u001b[0m\u001b[1;33m:\u001b[0m\u001b[1;33m\u001b[0m\u001b[1;33m\u001b[0m\u001b[0m\n",
      "\u001b[1;31mWebDriverException\u001b[0m: Message: chrome not reachable\n  (Session info: chrome=93.0.4577.82)\n"
     ]
    }
   ],
   "source": [
    "elementtekst = element.text\n",
    "print(elementtekst)"
   ]
  },
  {
   "cell_type": "code",
   "execution_count": 5,
   "id": "e4f59dd7",
   "metadata": {},
   "outputs": [
    {
     "name": "stdout",
     "output_type": "stream",
     "text": [
      "['10532 Rode wijn weergegeven tussen de €0 en €30 met meer dan 3.8 sterren', 'Sorteren:', 'Wijnsoorten', 'Meerdere selecteren', 'Rood', 'Wit', 'Mousserend', 'Rosé', 'Dessert', 'Versterkt', 'Prijsbereik', '€0', '€30', 'Gemiddelde beoordeling op Vivino', '4.2+', 'Uitzonderlijk', '3.8+', 'Behoorlijk goed', '3.6+', 'Niet slecht', 'Alle beoordelingen', 'Druivenrassen', 'Cabernet Franc', 'Cabernet Sauvignon', 'Chardonnay', 'Grenache', 'Malbec', 'Merlot', 'Pinot Noir', 'Riesling', 'Sauvignon Blanc', 'Shiraz/Syrah', 'Wijnstreken', 'Landen', 'Argentinië', 'Australië', 'Chili', 'Duitsland', 'Frankrijk', 'Italië', 'Oostenrijk', 'Portugal', 'Spanje', 'Verenigde Staten', 'Wijnstijlen', 'Argentijnse Malbec', 'Cabernet sauvignon uit Californië', 'Midden Italie Rood', 'Spaans Rood', 'Spaanse Rioja Rood', 'Gaat goed samen met', 'Gevogelte', 'Kalfsvlees', 'Pittig eten', 'Rijke vis (zalm, tonijn etc)', 'Zoete desserts', 'Toon alles', 'Cignomoro', '6 Anime Puglia Rosso 2020', 'Puglia, Italië', '4,7', '52 beoordelingen', '€', '25.75', 'bespaar', '9%', 'Guerrieri', 'Guerriero della Terra 2018', 'Marche, Italië', '4,6', '222 beoordelingen', '€', '24.95', '€27.50', 'Cignomoro', '6 Anime Puglia Rosso 2019', 'Puglia, Italië', '4,6', '99 beoordelingen', '€', '25.75', 'Cignomoro', '50 Old Vines Vecchie Vigne Negroamaro 2019', 'Puglia, Italië', '4,6', '80 beoordelingen', '€', '26.75', 'San Marzano', '60 Sessantanni Old Vines Primitivo di Manduria 2017', 'Primitivo di Manduria, Italië', '4,5', '3479 beoordelingen', '€', '28.57', 'Château Purcari', 'Negru de Purcari 2018', 'South Eastern, Moldavië', '4,5', '671 beoordelingen', '€', '24.75', 'Koncho', 'Kindzmarauli 2019', 'Kakheti, Georgië', '4,5', '116 beoordelingen', '€', '13', 'Puglia Pop', 'Luminaria Primitivo di Manduria 2019', 'Primitivo di Manduria, Italië', '4,5', '96 beoordelingen', '€', '24.95', 'Casa Ermelinda Freitas', 'Dona Ermelinda Grande Reserva 2017', 'Península de Setúbal, Portugal', '4,5', '91 beoordelingen', '€', '29.95', 'G. Milazzo', 'Terre della Baronia Rosso 2018', 'Sicilia, Italië', '4,5', '69 beoordelingen', '€', '22', 'Puglia Pop', 'Fico Susumaniello 2019', 'Puglia, Italië', '4,5', '54 beoordelingen', '€', '21.95', 'Fratelli Vogadori', 'Amarone della Valpolicella Classico 2016', 'Amarone della Valpolicella Classico, Italië', '4,5', '53 beoordelingen', '€', '26.90', 'Château Les Vimieres', 'Haut-Médoc 2017', 'Haut-Médoc, Frankrijk', '4,5', '32 beoordelingen', '€', '29.95', 'Jean-Baptiste Ponsot', \"Rully 1er Cru 'Molesme' Rouge 2019\", \"Rully 1er Cru 'Molesme', Frankrijk\", '4,5', '26 beoordelingen', '€', '29.50', 'El Enemigo', 'Malbec 2017', 'Mendoza, Argentinië', '4,4', '7551 beoordelingen', '€', '24.49', 'El Enemigo', 'Cabernet Franc 2017', 'Mendoza, Argentinië', '4,4', '6726 beoordelingen', '€', '22.59', 'Vigneti del Salento', 'Vigne Vecchie Leggenda Primitivo di Manduria 2016', 'Primitivo di Manduria, Italië', '4,4', '4073 beoordelingen', '€', '21.42', 'El Enemigo', 'Bonarda 2017', 'Mendoza, Argentinië', '4,4', '3198 beoordelingen', '€', '22.59', 'Emilio Moro', 'Malleolus 2018', 'Ribera del Duero, Spanje', '4,4', '2340 beoordelingen', '€', '29.95', 'Varvaglione', 'Papale Linea Oro Primitivo di Manduria 2017', 'Primitivo di Manduria, Italië', '4,4', '1582 beoordelingen', '€', '18.95', 'Matsu', 'El Viejo 2018', 'Toro, Spanje', '4,4', '844 beoordelingen', '€', '28.45', 'Tedeschi', 'Marne 180 Amarone della Valpolicella 2017', 'Amarone della Valpolicella, Italië', '4,4', '779 beoordelingen', '€', '29.95', 'Antinori', \"Tenuta Tignanello 'Marchese Antinori' Chianti Classico Riserva 2018\", 'Chianti Classico, Italië', '4,4', '740 beoordelingen', '€', '29.95', 'San Marzano', '62 Anniversario Primitivo di Manduria Riserva 2017', 'Primitivo di Manduria, Italië', '4,4', '680 beoordelingen', '€', '28.95', 'Bodegas Vilano', 'La Baraja 2016', 'Ribera del Duero, Spanje', '4,4', '443 beoordelingen', '€', '29.95']\n"
     ]
    }
   ],
   "source": [
    "list_total = elementtekst.splitlines()\n",
    "print(list_total)"
   ]
  },
  {
   "cell_type": "code",
   "execution_count": 12,
   "id": "21f415d5",
   "metadata": {},
   "outputs": [],
   "source": [
    "def get_prices(list_total):\n",
    "    prices = {} \n",
    "    for i, ele in enumerate(list_total): \n",
    "        if ele == '€': \n",
    "            prices['Name'] = list_total[i-4]\n",
    "            prices['Wineprice'] = list_total[i+1]\n",
    "            prices['Aantal beoordelingen'] = list_total[i-1]\n",
    "            prices['Gemiddelde beoordeling'] = list_total[i-2]\n",
    "            print(prices)\n",
    "            "
   ]
  },
  {
   "cell_type": "code",
   "execution_count": 13,
   "id": "30b238fa",
   "metadata": {
    "scrolled": true
   },
   "outputs": [
    {
     "name": "stdout",
     "output_type": "stream",
     "text": [
      "{'Name': '6 Anime Puglia Rosso 2020', 'Wineprice': '25.75', 'Aantal beoordelingen': '52 beoordelingen', 'Gemiddelde beoordeling': '4,7'}\n",
      "{'Name': 'Guerriero della Terra 2018', 'Wineprice': '24.95', 'Aantal beoordelingen': '222 beoordelingen', 'Gemiddelde beoordeling': '4,6'}\n",
      "{'Name': '6 Anime Puglia Rosso 2019', 'Wineprice': '25.75', 'Aantal beoordelingen': '99 beoordelingen', 'Gemiddelde beoordeling': '4,6'}\n",
      "{'Name': '50 Old Vines Vecchie Vigne Negroamaro 2019', 'Wineprice': '26.75', 'Aantal beoordelingen': '80 beoordelingen', 'Gemiddelde beoordeling': '4,6'}\n",
      "{'Name': '60 Sessantanni Old Vines Primitivo di Manduria 2017', 'Wineprice': '28.57', 'Aantal beoordelingen': '3479 beoordelingen', 'Gemiddelde beoordeling': '4,5'}\n",
      "{'Name': 'Negru de Purcari 2018', 'Wineprice': '24.75', 'Aantal beoordelingen': '671 beoordelingen', 'Gemiddelde beoordeling': '4,5'}\n",
      "{'Name': 'Kindzmarauli 2019', 'Wineprice': '13', 'Aantal beoordelingen': '116 beoordelingen', 'Gemiddelde beoordeling': '4,5'}\n",
      "{'Name': 'Luminaria Primitivo di Manduria 2019', 'Wineprice': '24.95', 'Aantal beoordelingen': '96 beoordelingen', 'Gemiddelde beoordeling': '4,5'}\n",
      "{'Name': 'Dona Ermelinda Grande Reserva 2017', 'Wineprice': '29.95', 'Aantal beoordelingen': '91 beoordelingen', 'Gemiddelde beoordeling': '4,5'}\n",
      "{'Name': 'Terre della Baronia Rosso 2018', 'Wineprice': '22', 'Aantal beoordelingen': '69 beoordelingen', 'Gemiddelde beoordeling': '4,5'}\n",
      "{'Name': 'Fico Susumaniello 2019', 'Wineprice': '21.95', 'Aantal beoordelingen': '54 beoordelingen', 'Gemiddelde beoordeling': '4,5'}\n",
      "{'Name': 'Amarone della Valpolicella Classico 2016', 'Wineprice': '26.90', 'Aantal beoordelingen': '53 beoordelingen', 'Gemiddelde beoordeling': '4,5'}\n",
      "{'Name': 'Haut-Médoc 2017', 'Wineprice': '29.95', 'Aantal beoordelingen': '32 beoordelingen', 'Gemiddelde beoordeling': '4,5'}\n",
      "{'Name': \"Rully 1er Cru 'Molesme' Rouge 2019\", 'Wineprice': '29.50', 'Aantal beoordelingen': '26 beoordelingen', 'Gemiddelde beoordeling': '4,5'}\n",
      "{'Name': 'Malbec 2017', 'Wineprice': '24.49', 'Aantal beoordelingen': '7551 beoordelingen', 'Gemiddelde beoordeling': '4,4'}\n",
      "{'Name': 'Cabernet Franc 2017', 'Wineprice': '22.59', 'Aantal beoordelingen': '6726 beoordelingen', 'Gemiddelde beoordeling': '4,4'}\n",
      "{'Name': 'Vigne Vecchie Leggenda Primitivo di Manduria 2016', 'Wineprice': '21.42', 'Aantal beoordelingen': '4073 beoordelingen', 'Gemiddelde beoordeling': '4,4'}\n",
      "{'Name': 'Bonarda 2017', 'Wineprice': '22.59', 'Aantal beoordelingen': '3198 beoordelingen', 'Gemiddelde beoordeling': '4,4'}\n",
      "{'Name': 'Malleolus 2018', 'Wineprice': '29.95', 'Aantal beoordelingen': '2340 beoordelingen', 'Gemiddelde beoordeling': '4,4'}\n",
      "{'Name': 'Papale Linea Oro Primitivo di Manduria 2017', 'Wineprice': '18.95', 'Aantal beoordelingen': '1582 beoordelingen', 'Gemiddelde beoordeling': '4,4'}\n",
      "{'Name': 'El Viejo 2018', 'Wineprice': '28.45', 'Aantal beoordelingen': '844 beoordelingen', 'Gemiddelde beoordeling': '4,4'}\n",
      "{'Name': 'Marne 180 Amarone della Valpolicella 2017', 'Wineprice': '29.95', 'Aantal beoordelingen': '779 beoordelingen', 'Gemiddelde beoordeling': '4,4'}\n",
      "{'Name': \"Tenuta Tignanello 'Marchese Antinori' Chianti Classico Riserva 2018\", 'Wineprice': '29.95', 'Aantal beoordelingen': '740 beoordelingen', 'Gemiddelde beoordeling': '4,4'}\n",
      "{'Name': '62 Anniversario Primitivo di Manduria Riserva 2017', 'Wineprice': '28.95', 'Aantal beoordelingen': '680 beoordelingen', 'Gemiddelde beoordeling': '4,4'}\n",
      "{'Name': 'La Baraja 2016', 'Wineprice': '29.95', 'Aantal beoordelingen': '443 beoordelingen', 'Gemiddelde beoordeling': '4,4'}\n"
     ]
    }
   ],
   "source": [
    "get_prices(list_total)"
   ]
  },
  {
   "cell_type": "code",
   "execution_count": 48,
   "id": "9919dcf1",
   "metadata": {},
   "outputs": [
    {
     "name": "stdout",
     "output_type": "stream",
     "text": [
      "None\n"
     ]
    }
   ],
   "source": []
  },
  {
   "cell_type": "code",
   "execution_count": null,
   "id": "15afe514",
   "metadata": {
    "scrolled": true
   },
   "outputs": [],
   "source": []
  },
  {
   "cell_type": "code",
   "execution_count": null,
   "id": "977e21bc",
   "metadata": {},
   "outputs": [],
   "source": []
  },
  {
   "cell_type": "code",
   "execution_count": null,
   "id": "d4475fe9",
   "metadata": {},
   "outputs": [],
   "source": []
  },
  {
   "cell_type": "code",
   "execution_count": null,
   "id": "d7c5330a",
   "metadata": {},
   "outputs": [],
   "source": []
  },
  {
   "cell_type": "code",
   "execution_count": null,
   "id": "1e66ddd2",
   "metadata": {},
   "outputs": [],
   "source": []
  }
 ],
 "metadata": {
  "kernelspec": {
   "display_name": "Python 3",
   "language": "python",
   "name": "python3"
  },
  "language_info": {
   "codemirror_mode": {
    "name": "ipython",
    "version": 3
   },
   "file_extension": ".py",
   "mimetype": "text/x-python",
   "name": "python",
   "nbconvert_exporter": "python",
   "pygments_lexer": "ipython3",
   "version": "3.8.8"
  }
 },
 "nbformat": 4,
 "nbformat_minor": 5
}
