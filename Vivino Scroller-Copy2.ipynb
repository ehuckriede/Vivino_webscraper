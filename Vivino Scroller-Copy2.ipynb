{
 "cells": [
  {
   "cell_type": "markdown",
   "id": "8630573f",
   "metadata": {},
   "source": [
    "At first webdriver is imported to be able to extract data from the correct URL."
   ]
  },
  {
   "cell_type": "code",
   "execution_count": 109,
   "id": "fc289789",
   "metadata": {},
   "outputs": [],
   "source": [
    "from selenium import webdriver\n",
    "import pandas as pd\n",
    "import statistics\n",
    "import csv\n",
    "#pip install xslxwriter\n",
    "import xlsxwriter\n",
    "driver = webdriver.Chrome() #,chrome_options=chrome_options)"
   ]
  },
  {
   "cell_type": "code",
   "execution_count": 83,
   "id": "a77d3d8f",
   "metadata": {},
   "outputs": [],
   "source": [
    "driver.get('https://www.vivino.com/explore?e=eJzLLbI1VMvNzLM1UMtNrLA1NTBQS6609fNRS7Z1DQ1SKwDKpqfZliUWZaaWJOao5Rel2KrlJ1XaqpWXRMcCJYuApLGFKQAadhYz')"
   ]
  },
  {
   "cell_type": "markdown",
   "id": "402edb71",
   "metadata": {},
   "source": [
    "the URL leads to the ranking page of Vivino.com where the filters Region = Bourgogne, Type of wine =  Red wine and the full price range and all average ratings are selected. "
   ]
  },
  {
   "cell_type": "code",
   "execution_count": 90,
   "id": "9aa88fe2",
   "metadata": {},
   "outputs": [],
   "source": [
    "from bs4 import BeautifulSoup\n",
    "res = driver.page_source.encode('utf-8')\n",
    "soup = BeautifulSoup(res, \"html.parser\")"
   ]
  },
  {
   "cell_type": "markdown",
   "id": "34a2b6b8",
   "metadata": {},
   "source": [
    "Below the total amount of wines left with the filter we implemented is extraced from the website. This is done by finding the right class and then split the total line of text obtained by spaces and then select the first element, since that is the amount of wines that are going to be scraped. (This total amount of wines that are going to be scraped will later on be implemented in the loop, to make sure all wines will end up in the output list)"
   ]
  },
  {
   "cell_type": "code",
   "execution_count": 91,
   "id": "462f55d3",
   "metadata": {
    "scrolled": true
   },
   "outputs": [
    {
     "name": "stdout",
     "output_type": "stream",
     "text": [
      "1924\n"
     ]
    }
   ],
   "source": [
    "total_wines = soup.find_all(attrs={\"class\": \"layout__inner--3JC-x\"})[0].text\n",
    "total_wines = total_wines.split(' ')[0]\n",
    "total_wines = int(total_wines)\n",
    "print(total_wines)"
   ]
  },
  {
   "cell_type": "markdown",
   "id": "2c192188",
   "metadata": {},
   "source": [
    "Now it is time to perform the loop to scrape all the wines. The outcome of this loop is 4 lists that include wine names, wine prices, number of reviews and the average ratings of all wines from Bourgogne region. \n",
    "\n",
    "First the lists are defined. Adding elements to a non-existing list is impossible.\n",
    "The number of iterations is total_wines/5. The total number of wines is 5 because we chose the scroll range to be 1000. With a scroll range of 1000, 5 wines will be scraped in 1 run. We thus need to use total_wines/5 runs to scrape all wines on the website. \n",
    "\n",
    "The function then returns 4 lists which can be transformed in variables to perform further analysis on. "
   ]
  },
  {
   "cell_type": "code",
   "execution_count": 112,
   "id": "919645d5",
   "metadata": {},
   "outputs": [],
   "source": [
    "def scroll_page():\n",
    "    from time import sleep\n",
    "        \n",
    "    scroll_range = 0\n",
    "    the_range = int(20)\n",
    "\n",
    "    for _ in range(the_range):\n",
    "        res = driver.page_source.encode('utf-8')\n",
    "        soup = BeautifulSoup(res, \"html.parser\")\n",
    "        \n",
    "        # total number of wines in current view\n",
    "        num_wines_view = len(soup.find_all(attrs={\"data-testid\" : \"wineCard\"}))\n",
    "        all_wines = soup.find_all(attrs={\"data-testid\" : \"wineCard\"})\n",
    "        \n",
    "        # add wine attributes name, price, number of reviews and average ratings to list\n",
    "        for counter in range(num_wines_view):\n",
    "            \n",
    "            the_name_id = soup.find_all(attrs={\"data-testid\": \"wineCard\"})[counter].find_all(attrs={\"class\": \"wineInfoVintage__vintage--VvWlU wineInfoVintage__truncate--3QAtw\"})[0].text\n",
    "            the_price_id = soup.find_all(attrs={\"data-testid\": \"wineCard\"})[counter].find_all(True, {\"class\": [\"addToCartButton__price--qJdh4\" , \"addToCart__subText--1pvFt addToCart__ppcPrice--ydrd5\"]})[0].text\n",
    "            the_reviews_id =  soup.find_all(attrs={\"data-testid\": \"wineCard\"})[counter].find_all(attrs={\"class\": \"vivinoRating__caption--3tZeS\"})[0].text\n",
    "            the_rating_id = soup.find_all(attrs={\"data-testid\": \"wineCard\"})[counter].find_all(attrs={\"class\": \"vivinoRating__averageValue--3Navj\"})[0].text\n",
    "            \n",
    "            with open('output_odcm.csv', mode='a', newline='') as csv_file:\n",
    "                csv_writer = csv.writer(csv_file)\n",
    "                csv_writer.writerow([the_name_id, the_price_id, the_reviews_id, the_rating_id])\n",
    "    \n",
    "        # scroll down the page\n",
    "        scroll_range += 2000\n",
    "        driver.execute_script('window.scrollTo(0, ' + str(scroll_range) + ')')\n",
    "        \n",
    "        \n",
    "        #update total number of wines in current view, since extra wines are added\n",
    "        num_wines_view = len(soup.find_all(attrs={\"data-testid\" : \"wineCard\"}))\n",
    "    \n",
    "        # pause for 5 seconds\n",
    "        sleep(1)\n",
    "    "
   ]
  },
  {
   "cell_type": "markdown",
   "id": "bc13883e",
   "metadata": {},
   "source": [
    "Now the function  scroll_page() will be runned and transformed in 4 output variables: Bourgogne_wine_names, Bourgogne_wine_prices, Bourgogne_number_of_reviews and Bourgogne_average_rating. These 4 variables are all a list of strings. "
   ]
  },
  {
   "cell_type": "code",
   "execution_count": 113,
   "id": "48a7acde",
   "metadata": {},
   "outputs": [
    {
     "ename": "WebDriverException",
     "evalue": "Message: chrome not reachable\n  (Session info: chrome=93.0.4577.82)\n",
     "output_type": "error",
     "traceback": [
      "\u001b[1;31m---------------------------------------------------------------------------\u001b[0m",
      "\u001b[1;31mWebDriverException\u001b[0m                        Traceback (most recent call last)",
      "\u001b[1;32m<ipython-input-113-0c523b2ffc67>\u001b[0m in \u001b[0;36m<module>\u001b[1;34m\u001b[0m\n\u001b[1;32m----> 1\u001b[1;33m \u001b[0mscroll_page\u001b[0m\u001b[1;33m(\u001b[0m\u001b[1;33m)\u001b[0m\u001b[1;33m\u001b[0m\u001b[1;33m\u001b[0m\u001b[0m\n\u001b[0m",
      "\u001b[1;32m<ipython-input-112-1b3f3fabfc25>\u001b[0m in \u001b[0;36mscroll_page\u001b[1;34m()\u001b[0m\n\u001b[0;32m      6\u001b[0m \u001b[1;33m\u001b[0m\u001b[0m\n\u001b[0;32m      7\u001b[0m     \u001b[1;32mfor\u001b[0m \u001b[0m_\u001b[0m \u001b[1;32min\u001b[0m \u001b[0mrange\u001b[0m\u001b[1;33m(\u001b[0m\u001b[0mthe_range\u001b[0m\u001b[1;33m)\u001b[0m\u001b[1;33m:\u001b[0m\u001b[1;33m\u001b[0m\u001b[1;33m\u001b[0m\u001b[0m\n\u001b[1;32m----> 8\u001b[1;33m         \u001b[0mres\u001b[0m \u001b[1;33m=\u001b[0m \u001b[0mdriver\u001b[0m\u001b[1;33m.\u001b[0m\u001b[0mpage_source\u001b[0m\u001b[1;33m.\u001b[0m\u001b[0mencode\u001b[0m\u001b[1;33m(\u001b[0m\u001b[1;34m'utf-8'\u001b[0m\u001b[1;33m)\u001b[0m\u001b[1;33m\u001b[0m\u001b[1;33m\u001b[0m\u001b[0m\n\u001b[0m\u001b[0;32m      9\u001b[0m         \u001b[0msoup\u001b[0m \u001b[1;33m=\u001b[0m \u001b[0mBeautifulSoup\u001b[0m\u001b[1;33m(\u001b[0m\u001b[0mres\u001b[0m\u001b[1;33m,\u001b[0m \u001b[1;34m\"html.parser\"\u001b[0m\u001b[1;33m)\u001b[0m\u001b[1;33m\u001b[0m\u001b[1;33m\u001b[0m\u001b[0m\n\u001b[0;32m     10\u001b[0m \u001b[1;33m\u001b[0m\u001b[0m\n",
      "\u001b[1;32m~\\Documents\\a\\lib\\site-packages\\selenium\\webdriver\\remote\\webdriver.py\u001b[0m in \u001b[0;36mpage_source\u001b[1;34m(self)\u001b[0m\n\u001b[0;32m    677\u001b[0m             \u001b[0mdriver\u001b[0m\u001b[1;33m.\u001b[0m\u001b[0mpage_source\u001b[0m\u001b[1;33m\u001b[0m\u001b[1;33m\u001b[0m\u001b[0m\n\u001b[0;32m    678\u001b[0m         \"\"\"\n\u001b[1;32m--> 679\u001b[1;33m         \u001b[1;32mreturn\u001b[0m \u001b[0mself\u001b[0m\u001b[1;33m.\u001b[0m\u001b[0mexecute\u001b[0m\u001b[1;33m(\u001b[0m\u001b[0mCommand\u001b[0m\u001b[1;33m.\u001b[0m\u001b[0mGET_PAGE_SOURCE\u001b[0m\u001b[1;33m)\u001b[0m\u001b[1;33m[\u001b[0m\u001b[1;34m'value'\u001b[0m\u001b[1;33m]\u001b[0m\u001b[1;33m\u001b[0m\u001b[1;33m\u001b[0m\u001b[0m\n\u001b[0m\u001b[0;32m    680\u001b[0m \u001b[1;33m\u001b[0m\u001b[0m\n\u001b[0;32m    681\u001b[0m     \u001b[1;32mdef\u001b[0m \u001b[0mclose\u001b[0m\u001b[1;33m(\u001b[0m\u001b[0mself\u001b[0m\u001b[1;33m)\u001b[0m\u001b[1;33m:\u001b[0m\u001b[1;33m\u001b[0m\u001b[1;33m\u001b[0m\u001b[0m\n",
      "\u001b[1;32m~\\Documents\\a\\lib\\site-packages\\selenium\\webdriver\\remote\\webdriver.py\u001b[0m in \u001b[0;36mexecute\u001b[1;34m(self, driver_command, params)\u001b[0m\n\u001b[0;32m    319\u001b[0m         \u001b[0mresponse\u001b[0m \u001b[1;33m=\u001b[0m \u001b[0mself\u001b[0m\u001b[1;33m.\u001b[0m\u001b[0mcommand_executor\u001b[0m\u001b[1;33m.\u001b[0m\u001b[0mexecute\u001b[0m\u001b[1;33m(\u001b[0m\u001b[0mdriver_command\u001b[0m\u001b[1;33m,\u001b[0m \u001b[0mparams\u001b[0m\u001b[1;33m)\u001b[0m\u001b[1;33m\u001b[0m\u001b[1;33m\u001b[0m\u001b[0m\n\u001b[0;32m    320\u001b[0m         \u001b[1;32mif\u001b[0m \u001b[0mresponse\u001b[0m\u001b[1;33m:\u001b[0m\u001b[1;33m\u001b[0m\u001b[1;33m\u001b[0m\u001b[0m\n\u001b[1;32m--> 321\u001b[1;33m             \u001b[0mself\u001b[0m\u001b[1;33m.\u001b[0m\u001b[0merror_handler\u001b[0m\u001b[1;33m.\u001b[0m\u001b[0mcheck_response\u001b[0m\u001b[1;33m(\u001b[0m\u001b[0mresponse\u001b[0m\u001b[1;33m)\u001b[0m\u001b[1;33m\u001b[0m\u001b[1;33m\u001b[0m\u001b[0m\n\u001b[0m\u001b[0;32m    322\u001b[0m             response['value'] = self._unwrap_value(\n\u001b[0;32m    323\u001b[0m                 response.get('value', None))\n",
      "\u001b[1;32m~\\Documents\\a\\lib\\site-packages\\selenium\\webdriver\\remote\\errorhandler.py\u001b[0m in \u001b[0;36mcheck_response\u001b[1;34m(self, response)\u001b[0m\n\u001b[0;32m    240\u001b[0m                 \u001b[0malert_text\u001b[0m \u001b[1;33m=\u001b[0m \u001b[0mvalue\u001b[0m\u001b[1;33m[\u001b[0m\u001b[1;34m'alert'\u001b[0m\u001b[1;33m]\u001b[0m\u001b[1;33m.\u001b[0m\u001b[0mget\u001b[0m\u001b[1;33m(\u001b[0m\u001b[1;34m'text'\u001b[0m\u001b[1;33m)\u001b[0m\u001b[1;33m\u001b[0m\u001b[1;33m\u001b[0m\u001b[0m\n\u001b[0;32m    241\u001b[0m             \u001b[1;32mraise\u001b[0m \u001b[0mexception_class\u001b[0m\u001b[1;33m(\u001b[0m\u001b[0mmessage\u001b[0m\u001b[1;33m,\u001b[0m \u001b[0mscreen\u001b[0m\u001b[1;33m,\u001b[0m \u001b[0mstacktrace\u001b[0m\u001b[1;33m,\u001b[0m \u001b[0malert_text\u001b[0m\u001b[1;33m)\u001b[0m\u001b[1;33m\u001b[0m\u001b[1;33m\u001b[0m\u001b[0m\n\u001b[1;32m--> 242\u001b[1;33m         \u001b[1;32mraise\u001b[0m \u001b[0mexception_class\u001b[0m\u001b[1;33m(\u001b[0m\u001b[0mmessage\u001b[0m\u001b[1;33m,\u001b[0m \u001b[0mscreen\u001b[0m\u001b[1;33m,\u001b[0m \u001b[0mstacktrace\u001b[0m\u001b[1;33m)\u001b[0m\u001b[1;33m\u001b[0m\u001b[1;33m\u001b[0m\u001b[0m\n\u001b[0m\u001b[0;32m    243\u001b[0m \u001b[1;33m\u001b[0m\u001b[0m\n\u001b[0;32m    244\u001b[0m     \u001b[1;32mdef\u001b[0m \u001b[0m_value_or_default\u001b[0m\u001b[1;33m(\u001b[0m\u001b[0mself\u001b[0m\u001b[1;33m,\u001b[0m \u001b[0mobj\u001b[0m\u001b[1;33m,\u001b[0m \u001b[0mkey\u001b[0m\u001b[1;33m,\u001b[0m \u001b[0mdefault\u001b[0m\u001b[1;33m)\u001b[0m\u001b[1;33m:\u001b[0m\u001b[1;33m\u001b[0m\u001b[1;33m\u001b[0m\u001b[0m\n",
      "\u001b[1;31mWebDriverException\u001b[0m: Message: chrome not reachable\n  (Session info: chrome=93.0.4577.82)\n"
     ]
    }
   ],
   "source": [
    "scroll_page()"
   ]
  },
  {
   "cell_type": "markdown",
   "id": "bd606e8e",
   "metadata": {},
   "source": [
    "For a checkup, we check the lengths of all lists, to be sure we scraped all wines from the page. "
   ]
  },
  {
   "cell_type": "code",
   "execution_count": 42,
   "id": "96e1cefc",
   "metadata": {},
   "outputs": [
    {
     "name": "stdout",
     "output_type": "stream",
     "text": [
      "0\n",
      "0\n",
      "0\n",
      "0\n"
     ]
    }
   ],
   "source": [
    "print(len(Bourgogne_wine_names))\n",
    "print(len(Bourgogne_wine_prices))\n",
    "print(len(Bourgogne_number_of_reviews))\n",
    "print(len(Bourgogne_average_rating))"
   ]
  },
  {
   "cell_type": "code",
   "execution_count": 14,
   "id": "bddf7e38",
   "metadata": {},
   "outputs": [
    {
     "name": "stdout",
     "output_type": "stream",
     "text": [
      "['50 beoordelingen', '411 beoordelingen', '320 beoordelingen', '318 beoordelingen', '298 beoordelingen', '266 beoordelingen', '245 beoordelingen', '238 beoordelingen', '232 beoordelingen', '215 beoordelingen', '193 beoordelingen', '177 beoordelingen', '153 beoordelingen', '137 beoordelingen', '137 beoordelingen', '133 beoordelingen', '101 beoordelingen', '100 beoordelingen', '87 beoordelingen', '57 beoordelingen', '57 beoordelingen', '53 beoordelingen', '53 beoordelingen', '52 beoordelingen', '51 beoordelingen', '50 beoordelingen', '47 beoordelingen', '44 beoordelingen', '43 beoordelingen', '42 beoordelingen', '39 beoordelingen', '36 beoordelingen', '30 beoordelingen', '29 beoordelingen', '26 beoordelingen', '396 beoordelingen', '391 beoordelingen', '338 beoordelingen', '314 beoordelingen', '243 beoordelingen', '239 beoordelingen', '236 beoordelingen', '232 beoordelingen', '222 beoordelingen', '220 beoordelingen', '216 beoordelingen', '216 beoordelingen', '214 beoordelingen', '205 beoordelingen', '193 beoordelingen']\n"
     ]
    }
   ],
   "source": [
    "print(Bourgogne_number_of_reviews)"
   ]
  },
  {
   "cell_type": "markdown",
   "id": "76f99243",
   "metadata": {},
   "source": [
    "The Bourgogne_price_list contains different types of strings, some say \"€price\" and  some say \"online verkrijgbaar vanaf €prijs\". To be able to perform anaylsis on this list as a whole, we need to transform the list to be of the same \"layout\". Afterwards we transform the elements of type \"str\" in the prices list into float variables. We do the same for the average_rating list"
   ]
  },
  {
   "cell_type": "code",
   "execution_count": 15,
   "id": "ed3ebe3d",
   "metadata": {},
   "outputs": [
    {
     "name": "stdout",
     "output_type": "stream",
     "text": [
      "['€17280', '€5280', '€3216', '€4130.34', '€6608.54', '€6360', '€5160', '€5520', '€3216', '€3420', '€3600', '€3648', '€2668.83', '€19500', '€3540', '€3500', '€27120', '€3456', '€6900', '€3720', '€3480', '€4980', '€3060', '€634', '€13188', '€4140', '€5040', '€3900', '€5040', '€3600', '€846.84', '€6000', '€840.95', '€20280', '€4200', '€5820', '€3770.26', '€5760', '€6680', '€5640', '€3288', '€24950', '€3180', '€24960', '€6315', '€25140', '€24600', '€2202.85', '€3180', '€3995']\n"
     ]
    }
   ],
   "source": [
    "Bourgogne_correct_price_list = []\n",
    "for ele in Bourgogne_wine_prices: \n",
    "    splitted_prices = (ele.split(\" \")[-1])\n",
    "    Bourgogne_correct_price_list.append(splitted_prices)\n",
    "print(Bourgogne_correct_price_list)"
   ]
  },
  {
   "cell_type": "code",
   "execution_count": 16,
   "id": "fd497593",
   "metadata": {},
   "outputs": [
    {
     "name": "stdout",
     "output_type": "stream",
     "text": [
      "[17280.0, 5280.0, 3216.0, 4130.34, 6608.54, 6360.0, 5160.0, 5520.0, 3216.0, 3420.0, 3600.0, 3648.0, 2668.83, 19500.0, 3540.0, 3500.0, 27120.0, 3456.0, 6900.0, 3720.0, 3480.0, 4980.0, 3060.0, 634.0, 13188.0, 4140.0, 5040.0, 3900.0, 5040.0, 3600.0, 846.84, 6000.0, 840.95, 20280.0, 4200.0, 5820.0, 3770.26, 5760.0, 6680.0, 5640.0, 3288.0, 24950.0, 3180.0, 24960.0, 6315.0, 25140.0, 24600.0, 2202.85, 3180.0, 3995.0]\n"
     ]
    }
   ],
   "source": [
    "Bourgogne_correct_price_list = [s.replace(\"€\", \"\") for s in Bourgogne_correct_price_list]\n",
    "for i in range(0, len(Bourgogne_correct_price_list)):\n",
    "    Bourgogne_correct_price_list[i] = float(Bourgogne_correct_price_list[i])\n",
    "print(Bourgogne_correct_price_list)"
   ]
  },
  {
   "cell_type": "code",
   "execution_count": 17,
   "id": "1aec0f93",
   "metadata": {},
   "outputs": [
    {
     "name": "stdout",
     "output_type": "stream",
     "text": [
      "[4.9, 4.8, 4.8, 4.8, 4.8, 4.8, 4.8, 4.8, 4.8, 4.8, 4.8, 4.8, 4.8, 4.8, 4.8, 4.8, 4.8, 4.8, 4.8, 4.8, 4.8, 4.8, 4.8, 4.8, 4.8, 4.8, 4.8, 4.8, 4.8, 4.8, 4.8, 4.8, 4.8, 4.8, 4.8, 4.7, 4.7, 4.7, 4.7, 4.7, 4.7, 4.7, 4.7, 4.7, 4.7, 4.7, 4.7, 4.7, 4.7, 4.7]\n"
     ]
    }
   ],
   "source": [
    "Bourgogne_average_rating = [s.replace(\",\", \".\") for s in Bourgogne_average_rating]\n",
    "for i in range(0, len(Bourgogne_average_rating)):\n",
    "    Bourgogne_average_rating[i] = float(Bourgogne_average_rating[i])\n",
    "print(Bourgogne_average_rating)"
   ]
  },
  {
   "cell_type": "code",
   "execution_count": 18,
   "id": "4dbf0c2a",
   "metadata": {},
   "outputs": [
    {
     "name": "stdout",
     "output_type": "stream",
     "text": [
      "7331.0922\n",
      "4.772\n"
     ]
    }
   ],
   "source": [
    "average_Bourgogne_price = statistics.mean(Bourgogne_correct_price_list)\n",
    "average_Bourgogne_rating = statistics.mean(Bourgogne_average_rating)\n",
    "print(average_Bourgogne_price)\n",
    "print(average_Bourgogne_rating)"
   ]
  },
  {
   "cell_type": "code",
   "execution_count": null,
   "id": "2cc6ba4e",
   "metadata": {},
   "outputs": [],
   "source": []
  },
  {
   "cell_type": "code",
   "execution_count": null,
   "id": "a335dd0d",
   "metadata": {},
   "outputs": [],
   "source": []
  }
 ],
 "metadata": {
  "kernelspec": {
   "display_name": "Python 3",
   "language": "python",
   "name": "python3"
  },
  "language_info": {
   "codemirror_mode": {
    "name": "ipython",
    "version": 3
   },
   "file_extension": ".py",
   "mimetype": "text/x-python",
   "name": "python",
   "nbconvert_exporter": "python",
   "pygments_lexer": "ipython3",
   "version": "3.8.8"
  }
 },
 "nbformat": 4,
 "nbformat_minor": 5
}
