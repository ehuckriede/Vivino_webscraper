{
 "cells": [
  {
   "cell_type": "markdown",
   "id": "7356d9b9",
   "metadata": {},
   "source": [
    "# 1. Load URL to Python using selenium"
   ]
  },
  {
   "cell_type": "markdown",
   "id": "8630573f",
   "metadata": {},
   "source": [
    "We are using selenium to extract data from the url of the red wine ranking page of Vivino.com. \n",
    "Selenium lets us scrape the page as if we are users: this withholds us from errors and blocks from the website. \n"
   ]
  },
  {
   "cell_type": "code",
   "execution_count": 9,
   "id": "fc289789",
   "metadata": {},
   "outputs": [],
   "source": [
    "#import relevant packages used in this script\n",
    "import re\n",
    "from selenium import webdriver\n",
    "import pandas as pd\n",
    "import statistics\n",
    "import csv\n",
    "from time import sleep\n",
    "\n",
    "#load chrome webdriver \n",
    "driver = webdriver.Chrome() #,chrome_options=chrome_options)"
   ]
  },
  {
   "cell_type": "code",
   "execution_count": 10,
   "id": "a77d3d8f",
   "metadata": {},
   "outputs": [],
   "source": [
    "#call url of vivino website\n",
    "driver.get('https://www.vivino.com/explore?e=eJzLLbI1VMvNzLM1UMtNrLA1NTBQS6609fNRS7Z1DQ1SKwDKpqfZliUWZaaWJOao5Rel2KrlJ1XaqpWXRMfaGgIAb8QUBg%3D%3D')\n"
   ]
  },
  {
   "cell_type": "markdown",
   "id": "f4d3b890",
   "metadata": {},
   "source": [
    "# 2. Set up correct settings for chromedriver"
   ]
  },
  {
   "cell_type": "code",
   "execution_count": null,
   "id": "a60bd71d",
   "metadata": {},
   "outputs": [],
   "source": [
    "#maximize chromedriver window \n",
    "driver.maximize_window()\n",
    "driver.execute_script('window.scrollTo(0, ' + str(1000) + ')')\n",
    "\n",
    "#sleep 20 seconds to make sure the Regions in the filter sidebar are loaded\n",
    "sleep(20)\n"
   ]
  },
  {
   "cell_type": "code",
   "execution_count": 4,
   "id": "dbb5b333",
   "metadata": {},
   "outputs": [],
   "source": [
    "#click cookie consent button\n",
    "element = driver.find_element_by_xpath(\"//span[text()='OK']\")\n",
    "element.click()"
   ]
  },
  {
   "cell_type": "code",
   "execution_count": 5,
   "id": "9aa88fe2",
   "metadata": {},
   "outputs": [],
   "source": [
    "from bs4 import BeautifulSoup\n",
    "res = driver.page_source.encode('utf-8')\n",
    "soup = BeautifulSoup(res, \"html.parser\")"
   ]
  },
  {
   "cell_type": "markdown",
   "id": "3c21f263",
   "metadata": {},
   "source": [
    "# 3. Define Functions"
   ]
  },
  {
   "cell_type": "code",
   "execution_count": 7,
   "id": "63434fb8",
   "metadata": {},
   "outputs": [],
   "source": [
    "#create list of all regions\n",
    "total_regions_list = []\n",
    "for counter in range(0,6):\n",
    "    total_regions_list.append(soup.find_all(attrs={\"class\": \"filterPills__items--_grOA\"})[1].find_all(attrs={\"class\": \"pill__text--24qI1\"})[counter].text)\n"
   ]
  },
  {
   "cell_type": "code",
   "execution_count": 8,
   "id": "f071bec5",
   "metadata": {},
   "outputs": [
    {
     "name": "stdout",
     "output_type": "stream",
     "text": [
      "['Bordeaux', 'Bourgogne', 'Napa Valley', 'Piemonte', 'Rhone Valley', 'Toscana']\n"
     ]
    }
   ],
   "source": [
    "#check whether Regions list is correct\n",
    "print(total_regions_list)"
   ]
  },
  {
   "cell_type": "code",
   "execution_count": 9,
   "id": "9086e822",
   "metadata": {
    "scrolled": true
   },
   "outputs": [],
   "source": [
    "#define get_the_url function which automatically clicks the Region to scrape in the filter on the website\n",
    "def get_the_url(Region):\n",
    "    element= driver.find_element_by_xpath(\"//span[text()='\"+ Region + \"']\")\n",
    "    element.click()\n",
    "    url = driver.current_url\n",
    "    return url"
   ]
  },
  {
   "cell_type": "code",
   "execution_count": 11,
   "id": "3986b30e",
   "metadata": {},
   "outputs": [],
   "source": [
    "#define a scroll range high enough to scrape 500 wines\n",
    "the_range = int(500)"
   ]
  },
  {
   "cell_type": "code",
   "execution_count": 12,
   "id": "919645d5",
   "metadata": {},
   "outputs": [],
   "source": [
    "def scroll_page(Region):    \n",
    "    \n",
    "    from time import sleep\n",
    "    import re\n",
    "    \n",
    "    #call get_url function to get the correct url linked to the Region\n",
    "    get_the_url(Region)      \n",
    "    \n",
    "    sleep(1)\n",
    "    \n",
    "    \n",
    "    #import url in chromedriver\n",
    "    res = driver.page_source.encode('utf-8')\n",
    "    soup = BeautifulSoup(res, \"html.parser\")\n",
    "    scroll_range = 0\n",
    "    \n",
    "    sleep (5)\n",
    "    \n",
    "    #name the created file \n",
    "    filename = Region\n",
    "    fullpath = str(filename) + \".csv\"\n",
    "    \n",
    "    \n",
    "    \n",
    "    #create variable numbers which finds the total amount of wines diplayed at the page that is being scraped (for future use, now only the first 500 wines are scraped)\n",
    "    all_wines = ((soup.find_all(attrs={\"class\" : \"querySummary__querySummary--39WP2\"}))[0].text)\n",
    "    numbers = [int(word) for word in all_wines.split() if word.isdigit()][0]\n",
    "    numbers = int(numbers)\n",
    "    \n",
    "    #create scraping_round variable that counts the amount of times all the wines are being scraped \n",
    "    scraping_round = 1\n",
    "        \n",
    "    num_wines_view_2 = 0\n",
    "    #create a scroller that scrolls the_range amount of times.     \n",
    "    for _ in range(the_range):\n",
    "        res = driver.page_source.encode('utf-8')\n",
    "        soup = BeautifulSoup(res, \"html.parser\")\n",
    "        \n",
    "        \n",
    "        # total number of wines in current view\n",
    "        num_wines_view_1 = int(len(soup.find_all(attrs={\"data-testid\" : \"wineCard\"})))\n",
    "        \n",
    "        #create attributes the_name_id, the_price_id, the_reviews_id and the_rating id\n",
    "        if num_wines_view_1 > num_wines_view_2:\n",
    "            for counter in range(num_wines_view_1):\n",
    "                the_name_id = soup.find_all(attrs={\"data-testid\": \"wineCard\"})[counter].find_all(attrs={\"class\": \"wineInfoVintage__vintage--VvWlU wineInfoVintage__truncate--3QAtw\"})[0].text\n",
    "                the_price_id = soup.find_all(attrs={\"data-testid\": \"wineCard\"})[counter].find_all(True, {\"class\": [\"addToCartButton__price--qJdh4\" , \"addToCart__subText--1pvFt addToCart__ppcPrice--ydrd5\", \"addToCart__subText--1pvFt addToCart__soldOut--1dP2Z\"]})[0].text\n",
    "                the_reviews_id =  soup.find_all(attrs={\"data-testid\": \"wineCard\"})[counter].find_all(attrs={\"class\": \"vivinoRating__caption--3tZeS\"})[0].text\n",
    "                the_rating_id = soup.find_all(attrs={\"data-testid\": \"wineCard\"})[counter].find_all(attrs={\"class\": \"vivinoRating__averageValue--3Navj\"})[0].text    \n",
    "            \n",
    "                #reshape the_price_id variable that is put into the csv file to make it more usable in further analysis\n",
    "                try:\n",
    "                    the_price_id = the_price_id.replace(\"€\", \"\")\n",
    "                    the_price_id = the_price_id.replace(\".\", \"\")\n",
    "                    the_price_id = the_price_id.replace(\",\", \".\")\n",
    "                    the_price_id = the_price_id.split(\" \")\n",
    "                    the_price_id = float(the_price_id[-1])\n",
    "                except: \n",
    "                    the_price_id = \"Sold out, no price available\"\n",
    "                \n",
    "                #reshape the_reviews_id variable that is put into the csv file to make it more usable in further analysis\n",
    "                the_reviews_id = the_reviews_id.split(\" \")\n",
    "                the_reviews_id = int(the_reviews_id[0])\n",
    "                \n",
    "                #reshape the_rating_id variable that is put into the csv file to make it more usable in further analysis\n",
    "                the_rating_id = float(the_rating_id)\n",
    "                \n",
    "                #write variables per wine into csv file \n",
    "                with open(fullpath, mode='a', newline='', encoding='utf-8') as csv_file:\n",
    "                    writer = csv.writer(csv_file)\n",
    "                    writer.writerow([scraping_round, Region, counter+1, the_name_id, the_price_id, the_reviews_id, the_rating_id])\n",
    "                    \n",
    "            #scraping_round counter +1        \n",
    "            scraping_round += 1\n",
    "        \n",
    "        #the scroller scrolls in range +1000 in every loop \n",
    "        scroll_range += 1000\n",
    "        driver.execute_script('window.scrollTo(0, ' + str(scroll_range) + ')')\n",
    "        \n",
    "        #update total number of wines in current view to compare with number of wines in view before scrolling\n",
    "        num_wines_view_2 = int(len(soup.find_all(attrs={\"data-testid\" : \"wineCard\"})))\n",
    "        \n",
    "        #break loop if 500 wines are scraped\n",
    "        if num_wines_view_2 >= int(500): \n",
    "            break\n",
    "        #break loop if total number of wines are scraped\n",
    "        if num_wines_view_2 == numbers:\n",
    "            break\n",
    "    \n",
    "        # pause for 5 seconds\n",
    "        sleep(1)   \n",
    "    get_the_url(Region)"
   ]
  },
  {
   "cell_type": "code",
   "execution_count": 13,
   "id": "e885b7d0",
   "metadata": {},
   "outputs": [],
   "source": [
    "def filter_file(Region):\n",
    "    \n",
    "    #define filenames\n",
    "    fullpath = Region + \".csv\"\n",
    "    filtered_file = Region + ' filtered.csv'\n",
    "    \n",
    "    #assign a variable to the maximum (a.k.a. last) scraping round, stated in the first column of the csv file    \n",
    "    answer = int(max(int(column[0].replace(',', '')) for column in csv.reader(open(fullpath,'r'))))\n",
    "    \n",
    "    #write all wines that are scraped in the last scraping round to a csv \"filtered_file\".\n",
    "    with open(fullpath,'r') as fin:\n",
    "        with open(filtered_file,'w', newline='') as fout:\n",
    "            header = [\"Scraping Round\", \"Region\", \"Counter\", \"Name\", \"Price\", \"Number of Ratings\", \"Average Rating\"]\n",
    "            csv.writer(fout).writerow(header)\n",
    "            for row in csv.reader(fin):\n",
    "                if int(row[0]) == int(answer):\n",
    "                    csv.writer(fout).writerow(row)\n",
    "                    \n",
    "              \n",
    "                "
   ]
  },
  {
   "cell_type": "markdown",
   "id": "63a7bb49",
   "metadata": {},
   "source": [
    "# 4. Call Functions"
   ]
  },
  {
   "cell_type": "code",
   "execution_count": 1,
   "id": "f0700120",
   "metadata": {},
   "outputs": [
    {
     "ename": "NameError",
     "evalue": "name 'total_regions_list' is not defined",
     "output_type": "error",
     "traceback": [
      "\u001b[1;31m---------------------------------------------------------------------------\u001b[0m",
      "\u001b[1;31mNameError\u001b[0m                                 Traceback (most recent call last)",
      "\u001b[1;32m<ipython-input-1-46e713baaea0>\u001b[0m in \u001b[0;36m<module>\u001b[1;34m\u001b[0m\n\u001b[0;32m      1\u001b[0m \u001b[1;31m#call the scroller and filter function for all Regions\u001b[0m\u001b[1;33m\u001b[0m\u001b[1;33m\u001b[0m\u001b[1;33m\u001b[0m\u001b[0m\n\u001b[1;32m----> 2\u001b[1;33m \u001b[1;32mfor\u001b[0m \u001b[0mRegion\u001b[0m \u001b[1;32min\u001b[0m \u001b[0mtotal_regions_list\u001b[0m\u001b[1;33m:\u001b[0m\u001b[1;33m\u001b[0m\u001b[1;33m\u001b[0m\u001b[0m\n\u001b[0m\u001b[0;32m      3\u001b[0m     \u001b[0mscroll_page\u001b[0m\u001b[1;33m(\u001b[0m\u001b[0mRegion\u001b[0m\u001b[1;33m)\u001b[0m\u001b[1;33m\u001b[0m\u001b[1;33m\u001b[0m\u001b[0m\n\u001b[0;32m      4\u001b[0m     \u001b[0mfilter_file\u001b[0m\u001b[1;33m(\u001b[0m\u001b[0mRegion\u001b[0m\u001b[1;33m)\u001b[0m\u001b[1;33m\u001b[0m\u001b[1;33m\u001b[0m\u001b[0m\n",
      "\u001b[1;31mNameError\u001b[0m: name 'total_regions_list' is not defined"
     ]
    }
   ],
   "source": [
    "#call the scroller and filter function for all Regions\n",
    "for Region in total_regions_list: \n",
    "    scroll_page(Region)\n",
    "    filter_file(Region)\n"
   ]
  },
  {
   "cell_type": "markdown",
   "id": "a481b52b",
   "metadata": {},
   "source": [
    "# 5. Clean Output Folder"
   ]
  },
  {
   "cell_type": "code",
   "execution_count": null,
   "id": "14aa0980",
   "metadata": {},
   "outputs": [],
   "source": [
    "#delete all files that contain the duplicated data, and keep al the filtered files in the folder\n",
    "import os\n",
    "for Region in total_regions_list: \n",
    "    fullpath = Region + \".csv\"\n",
    "    os.remove(fullpath)"
   ]
  },
  {
   "cell_type": "code",
   "execution_count": null,
   "id": "5b438129",
   "metadata": {},
   "outputs": [],
   "source": [
    "#define function to merge the filtered files to get a complete dataset\n",
    "def merge_file():\n",
    "    import os\n",
    "    import glob\n",
    "    import pandas as pd\n",
    "    extension = 'csv'\n",
    "    all_filenames = [i for i in glob.glob('*.{}'.format(extension))]\n",
    "    #combine all files in the list\n",
    "    combined_csv = pd.concat([pd.read_csv(f) for f in all_filenames ])\n",
    "    #export to csv\n",
    "    combined_csv.to_csv( \"All_regions_data.csv\", index= False)"
   ]
  },
  {
   "cell_type": "code",
   "execution_count": null,
   "id": "43e4beab",
   "metadata": {},
   "outputs": [],
   "source": [
    "#call merge_file function\n",
    "merge_file()"
   ]
  }
 ],
 "metadata": {
  "kernelspec": {
   "display_name": "Python 3",
   "language": "python",
   "name": "python3"
  },
  "language_info": {
   "codemirror_mode": {
    "name": "ipython",
    "version": 3
   },
   "file_extension": ".py",
   "mimetype": "text/x-python",
   "name": "python",
   "nbconvert_exporter": "python",
   "pygments_lexer": "ipython3",
   "version": "3.8.8"
  }
 },
 "nbformat": 4,
 "nbformat_minor": 5
}
