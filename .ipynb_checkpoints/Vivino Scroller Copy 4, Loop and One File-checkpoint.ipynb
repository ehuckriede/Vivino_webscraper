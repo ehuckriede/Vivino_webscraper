{
 "cells": [
  {
   "cell_type": "markdown",
   "id": "7356d9b9",
   "metadata": {},
   "source": [
    "# 1. Load URL to Python using selenium"
   ]
  },
  {
   "cell_type": "markdown",
   "id": "8630573f",
   "metadata": {},
   "source": [
    "We are using selenium to extract data from the url of the red wine ranking page of Vivino.com. \n",
    "Selenium lets us scrape the page as if we are users: this withholds us from errors and blocks from the website. \n",
    "\n"
   ]
  },
  {
   "cell_type": "code",
   "execution_count": 1,
   "id": "fc289789",
   "metadata": {},
   "outputs": [],
   "source": [
    "from selenium import webdriver\n",
    "import pandas as pd\n",
    "import statistics\n",
    "import csv\n",
    "from time import sleep\n",
    "\n",
    "driver = webdriver.Chrome() #,chrome_options=chrome_options)"
   ]
  },
  {
   "cell_type": "code",
   "execution_count": 2,
   "id": "a77d3d8f",
   "metadata": {},
   "outputs": [],
   "source": [
    "driver.get('https://www.vivino.com/explore?e=eJzLLbI1VMvNzLM1UMtNrLA1NTBQS6609fNRS7Z1DQ1SKwDKpqfZliUWZaaWJOao5Rel2KrlJ1XaqpWXRMfaGgIAb8QUBg%3D%3D')"
   ]
  },
  {
   "cell_type": "markdown",
   "id": "f4d3b890",
   "metadata": {},
   "source": [
    "# 2. Set up correct settings for chromedriver"
   ]
  },
  {
   "cell_type": "markdown",
   "id": "cb7a3ab5",
   "metadata": {},
   "source": [
    "The Chromedriver window is maximized. This is done because the code of the full-screen window and the smaller-sized window can slightly differ. Thus, the chromedriver screen is maximized to ensure that the correct code will be scraped for all users of our scraper. \n",
    "\n",
    "Secondly, the scroller scrolls a bit town, since the wine Regions have to be loaded (if you check it in the chromedriver window, you can see it yoursel). "
   ]
  },
  {
   "cell_type": "code",
   "execution_count": 3,
   "id": "a60bd71d",
   "metadata": {},
   "outputs": [],
   "source": [
    "driver.maximize_window()\n",
    "driver.execute_script('window.scrollTo(0, ' + str(1000) + ')')\n",
    "sleep(5)\n"
   ]
  },
  {
   "cell_type": "markdown",
   "id": "f9af5f70",
   "metadata": {},
   "source": [
    "Automatically click the cookie consent button "
   ]
  },
  {
   "cell_type": "code",
   "execution_count": 4,
   "id": "dbb5b333",
   "metadata": {},
   "outputs": [],
   "source": [
    "#Nog niet gelukt \n",
    "\n",
    "#link = driver.find_element_by_class_name(\"MuiButton-label jss12\")\n",
    "#print(link)\n",
    "#link.click()"
   ]
  },
  {
   "cell_type": "code",
   "execution_count": 5,
   "id": "9aa88fe2",
   "metadata": {},
   "outputs": [],
   "source": [
    "from bs4 import BeautifulSoup\n",
    "res = driver.page_source.encode('utf-8')\n",
    "soup = BeautifulSoup(res, \"html.parser\")"
   ]
  },
  {
   "cell_type": "markdown",
   "id": "34a2b6b8",
   "metadata": {},
   "source": [
    "Below the total amount of wines left with the filter we implemented is extraced from the website. This is done by finding the right class and then split the total line of text obtained by spaces and then select the first element, since that is the amount of wines that are going to be scraped. (This total amount of wines that are going to be scraped will later on be implemented in the loop, to make sure all wines will end up in the output list)"
   ]
  },
  {
   "cell_type": "markdown",
   "id": "2c192188",
   "metadata": {},
   "source": [
    "Now it is time to perform the loop to scrape all the wines. The outcome of this loop is 4 lists that include wine names, wine prices, number of reviews and the average ratings of all wines from Bourgogne region. \n",
    "\n",
    "First the lists are defined. Adding elements to a non-existing list is impossible.\n",
    "The number of iterations is total_wines/5. The total number of wines is 5 because we chose the scroll range to be 1000. With a scroll range of 1000, 5 wines will be scraped in 1 run. We thus need to use total_wines/5 runs to scrape all wines on the website. \n",
    "\n",
    "The function then returns 4 lists which can be transformed in variables to perform further analysis on. "
   ]
  },
  {
   "cell_type": "code",
   "execution_count": 6,
   "id": "eaa56539",
   "metadata": {},
   "outputs": [],
   "source": [
    "urls = [\"https://www.vivino.com/explore?e=eJzLLbI1VMvNzLM1UMtNrLA1NTBQS6609fNRS7Z1DQ1SKwDKpqfZliUWZaaWJOao5Rel2KrlJ1XaqpWXRMcCJYuApLGFMQAadBYx\", \"https://www.vivino.com/explore?e=eJzLLbI1VMvNzLM1UMtNrLA1NTBQS6609fNRS7Z1DQ1SKwDKpqfZliUWZaaWJOao5Rel2KrlJ1XaqpWXRMcCJYuApLGFKQAadhYz\", \"https://www.vivino.com/explore?e=eJzLLbI1VMvNzLM1UMtNrLA1NTBQS6609fNRS7Z1DQ1SKwDKpqfZliUWZaaWJOao5Rel2KrlJ1XaqpWXRMcCJYuApJEpAAQ-Ffo%3D\", \"https://www.vivino.com/explore?e=eJzLLbI1VMvNzLM1UMtNrLA1NTBQS6609fNRS7Z1DQ1SKwDKpqfZliUWZaaWJOao5Rel2KrlJ1XaqpWXRMcCJYuApLGFJQAaehY3\", \"https://www.vivino.com/explore?e=eJzLLbI1VMvNzLM1UMtNrLA1NTBQS6609fNRS7Z1DQ1SKwDKpqfZliUWZaaWJOao5Rel2KrlJ1XaqpWXRMcCJYuApImBAQAaZBYn\", \"https://www.vivino.com/explore?e=eJzLLbI1VMvNzLM1UMtNrLA1NTBQS6609fNRS7Z1DQ1SKwDKpqfZliUWZaaWJOao5Rel2KrlJ1XaqpWXRMcCJYuApLGlCQAadxYz\"]"
   ]
  },
  {
   "cell_type": "code",
   "execution_count": 7,
   "id": "63434fb8",
   "metadata": {},
   "outputs": [],
   "source": [
    "total_Regions_list = []\n",
    "for counter in range(0,6):\n",
    "    total_Regions_list.append(soup.find_all(attrs={\"class\": \"filterPills__items--_grOA\"})[1].find_all(attrs={\"class\": \"pill__text--24qI1\"})[counter].text)\n"
   ]
  },
  {
   "cell_type": "code",
   "execution_count": 8,
   "id": "f071bec5",
   "metadata": {},
   "outputs": [
    {
     "name": "stdout",
     "output_type": "stream",
     "text": [
      "['Bordeaux', 'Bourgogne', 'Napa Valley', 'Piemonte', 'Rhone Valley', 'Toscana']\n"
     ]
    }
   ],
   "source": [
    "print(total_Regions_list)"
   ]
  },
  {
   "cell_type": "code",
   "execution_count": 9,
   "id": "f2533a99",
   "metadata": {},
   "outputs": [],
   "source": [
    "def get_url(Region):\n",
    "        for i in range(0,6):\n",
    "            if total_Regions_list[i] == Region: \n",
    "                url = urls[i]\n",
    "        return url\n",
    "    "
   ]
  },
  {
   "cell_type": "code",
   "execution_count": 15,
   "id": "3986b30e",
   "metadata": {},
   "outputs": [],
   "source": [
    "the_range = int(183)"
   ]
  },
  {
   "cell_type": "code",
   "execution_count": 18,
   "id": "919645d5",
   "metadata": {},
   "outputs": [],
   "source": [
    "def scroll_page(Region):\n",
    "    \n",
    "    \n",
    "    \n",
    "    url =  get_url(Region)      \n",
    "    \n",
    "    from time import sleep\n",
    "    \n",
    "    driver.get(url)\n",
    "    res = driver.page_source.encode('utf-8')\n",
    "    soup = BeautifulSoup(res, \"html.parser\")\n",
    "    scroll_range = 0\n",
    "    \n",
    "    filename = Region\n",
    "    fullpath = str(filename) + \".csv\"\n",
    "    myfile = open(fullpath , \"a+\")\n",
    "    scraping_round = 1\n",
    "    \n",
    "    total_wines = soup.find_all(attrs={\"class\": \"layout__inner--3JC-x\"})[0].text\n",
    "    total_wines = total_wines.split(' ')[0]\n",
    "    total_wines = int(total_wines)\n",
    "    \n",
    "    for _ in range(the_range):\n",
    "        res = driver.page_source.encode('utf-8')\n",
    "        soup = BeautifulSoup(res, \"html.parser\")\n",
    "        print (_)\n",
    "        \n",
    "        # total number of wines in current view\n",
    "        num_wines_view = len(soup.find_all(attrs={\"data-testid\" : \"wineCard\"}))\n",
    "        all_wines = soup.find_all(attrs={\"data-testid\" : \"wineCard\"})\n",
    "        # add wine attributes name, price, number of reviews and average ratings to list\n",
    "        \n",
    "        num_wines_view = len(soup.find_all(attrs={\"data-testid\" : \"wineCard\"}))\n",
    "    \n",
    "    # add wine attributes name, price, number of reviews and average ratings to list\n",
    "        for counter in range(num_wines_view):\n",
    "            the_name_id = soup.find_all(attrs={\"data-testid\": \"wineCard\"})[counter].find_all(attrs={\"class\": \"wineInfoVintage__vintage--VvWlU wineInfoVintage__truncate--3QAtw\"})[0].text\n",
    "            the_price_id = soup.find_all(attrs={\"data-testid\": \"wineCard\"})[counter].find_all(True, {\"class\": [\"addToCartButton__price--qJdh4\" , \"addToCart__subText--1pvFt addToCart__ppcPrice--ydrd5\", \"addToCart__subText--1pvFt addToCart__soldOut--1dP2Z\"]})[0].text\n",
    "            the_reviews_id =  soup.find_all(attrs={\"data-testid\": \"wineCard\"})[counter].find_all(attrs={\"class\": \"vivinoRating__caption--3tZeS\"})[0].text\n",
    "            the_rating_id = soup.find_all(attrs={\"data-testid\": \"wineCard\"})[counter].find_all(attrs={\"class\": \"vivinoRating__averageValue--3Navj\"})[0].text    \n",
    "           \n",
    "            with open(fullpath, mode='a', newline='') as csv_file:\n",
    "                writer = csv.writer(csv_file)\n",
    "                writer.writerow([scraping_round, the_name_id, the_price_id, the_reviews_id, the_rating_id])\n",
    "                \n",
    "                \n",
    "        scraping_round += 1\n",
    "            \n",
    "        # scroll down the page\n",
    "        scroll_range += 1000\n",
    "        driver.execute_script('window.scrollTo(0, ' + str(scroll_range) + ')')\n",
    "        \n",
    "        \n",
    "        #update total number of wines in current view, since extra wines are added\n",
    "        num_wines_view = len(soup.find_all(attrs={\"data-testid\" : \"wineCard\"}))\n",
    "        \n",
    "        if num_wines_view == total_wines: \n",
    "                break\n",
    "            # pause for 5 seconds\n",
    "        sleep(1)    "
   ]
  },
  {
   "cell_type": "markdown",
   "id": "bc13883e",
   "metadata": {},
   "source": [
    "Now the function  scroll_page() will be runned for all Regions. Thus the output will be 6 csv files including the wine names, prices, number of reviews and average ratings.  "
   ]
  },
  {
   "cell_type": "code",
   "execution_count": 19,
   "id": "e885b7d0",
   "metadata": {},
   "outputs": [],
   "source": [
    "def filter_file(Region):\n",
    "\n",
    "    filename = Region\n",
    "    fullpath = str(filename) + \".csv\"\n",
    "    filtered_file = filename + 'filtered.csv'\n",
    "\n",
    "    with open(fullpath,'r') as fin:\n",
    "        with open(filtered_file,'w', newline='') as fout: \n",
    "            writer = csv.writer(fout)            \n",
    "            for row in csv.reader(fin, delimiter=','):\n",
    "                if int(row[0]) == the_range:\n",
    "                    writer.writerow(row)"
   ]
  },
  {
   "cell_type": "code",
   "execution_count": 13,
   "id": "f0700120",
   "metadata": {},
   "outputs": [
    {
     "ename": "KeyboardInterrupt",
     "evalue": "",
     "output_type": "error",
     "traceback": [
      "\u001b[1;31m---------------------------------------------------------------------------\u001b[0m",
      "\u001b[1;31mKeyboardInterrupt\u001b[0m                         Traceback (most recent call last)",
      "\u001b[1;32m<ipython-input-13-0ed3710d6ec7>\u001b[0m in \u001b[0;36m<module>\u001b[1;34m\u001b[0m\n\u001b[1;32m----> 1\u001b[1;33m \u001b[0mscroll_page\u001b[0m\u001b[1;33m(\u001b[0m\u001b[1;34m\"Napa Valley\"\u001b[0m\u001b[1;33m)\u001b[0m\u001b[1;33m\u001b[0m\u001b[1;33m\u001b[0m\u001b[0m\n\u001b[0m\u001b[0;32m      2\u001b[0m \u001b[0mfilter_file\u001b[0m\u001b[1;33m(\u001b[0m\u001b[1;34m\"Napa Valley\"\u001b[0m\u001b[1;33m)\u001b[0m\u001b[1;33m\u001b[0m\u001b[1;33m\u001b[0m\u001b[0m\n",
      "\u001b[1;32m<ipython-input-11-4cbe271bd918>\u001b[0m in \u001b[0;36mscroll_page\u001b[1;34m(Region)\u001b[0m\n\u001b[0;32m     34\u001b[0m     \u001b[1;31m# add wine attributes name, price, number of reviews and average ratings to list\u001b[0m\u001b[1;33m\u001b[0m\u001b[1;33m\u001b[0m\u001b[1;33m\u001b[0m\u001b[0m\n\u001b[0;32m     35\u001b[0m         \u001b[1;32mfor\u001b[0m \u001b[0mcounter\u001b[0m \u001b[1;32min\u001b[0m \u001b[0mrange\u001b[0m\u001b[1;33m(\u001b[0m\u001b[0mnum_wines_view\u001b[0m\u001b[1;33m)\u001b[0m\u001b[1;33m:\u001b[0m\u001b[1;33m\u001b[0m\u001b[1;33m\u001b[0m\u001b[0m\n\u001b[1;32m---> 36\u001b[1;33m             \u001b[0mthe_name_id\u001b[0m \u001b[1;33m=\u001b[0m \u001b[0msoup\u001b[0m\u001b[1;33m.\u001b[0m\u001b[0mfind_all\u001b[0m\u001b[1;33m(\u001b[0m\u001b[0mattrs\u001b[0m\u001b[1;33m=\u001b[0m\u001b[1;33m{\u001b[0m\u001b[1;34m\"data-testid\"\u001b[0m\u001b[1;33m:\u001b[0m \u001b[1;34m\"wineCard\"\u001b[0m\u001b[1;33m}\u001b[0m\u001b[1;33m)\u001b[0m\u001b[1;33m[\u001b[0m\u001b[0mcounter\u001b[0m\u001b[1;33m]\u001b[0m\u001b[1;33m.\u001b[0m\u001b[0mfind_all\u001b[0m\u001b[1;33m(\u001b[0m\u001b[0mattrs\u001b[0m\u001b[1;33m=\u001b[0m\u001b[1;33m{\u001b[0m\u001b[1;34m\"class\"\u001b[0m\u001b[1;33m:\u001b[0m \u001b[1;34m\"wineInfoVintage__vintage--VvWlU wineInfoVintage__truncate--3QAtw\"\u001b[0m\u001b[1;33m}\u001b[0m\u001b[1;33m)\u001b[0m\u001b[1;33m[\u001b[0m\u001b[1;36m0\u001b[0m\u001b[1;33m]\u001b[0m\u001b[1;33m.\u001b[0m\u001b[0mtext\u001b[0m\u001b[1;33m\u001b[0m\u001b[1;33m\u001b[0m\u001b[0m\n\u001b[0m\u001b[0;32m     37\u001b[0m             \u001b[0mthe_price_id\u001b[0m \u001b[1;33m=\u001b[0m \u001b[0msoup\u001b[0m\u001b[1;33m.\u001b[0m\u001b[0mfind_all\u001b[0m\u001b[1;33m(\u001b[0m\u001b[0mattrs\u001b[0m\u001b[1;33m=\u001b[0m\u001b[1;33m{\u001b[0m\u001b[1;34m\"data-testid\"\u001b[0m\u001b[1;33m:\u001b[0m \u001b[1;34m\"wineCard\"\u001b[0m\u001b[1;33m}\u001b[0m\u001b[1;33m)\u001b[0m\u001b[1;33m[\u001b[0m\u001b[0mcounter\u001b[0m\u001b[1;33m]\u001b[0m\u001b[1;33m.\u001b[0m\u001b[0mfind_all\u001b[0m\u001b[1;33m(\u001b[0m\u001b[1;32mTrue\u001b[0m\u001b[1;33m,\u001b[0m \u001b[1;33m{\u001b[0m\u001b[1;34m\"class\"\u001b[0m\u001b[1;33m:\u001b[0m \u001b[1;33m[\u001b[0m\u001b[1;34m\"addToCartButton__price--qJdh4\"\u001b[0m \u001b[1;33m,\u001b[0m \u001b[1;34m\"addToCart__subText--1pvFt addToCart__ppcPrice--ydrd5\"\u001b[0m\u001b[1;33m,\u001b[0m \u001b[1;34m\"addToCart__subText--1pvFt addToCart__soldOut--1dP2Z\"\u001b[0m\u001b[1;33m]\u001b[0m\u001b[1;33m}\u001b[0m\u001b[1;33m)\u001b[0m\u001b[1;33m[\u001b[0m\u001b[1;36m0\u001b[0m\u001b[1;33m]\u001b[0m\u001b[1;33m.\u001b[0m\u001b[0mtext\u001b[0m\u001b[1;33m\u001b[0m\u001b[1;33m\u001b[0m\u001b[0m\n\u001b[0;32m     38\u001b[0m             \u001b[0mthe_reviews_id\u001b[0m \u001b[1;33m=\u001b[0m  \u001b[0msoup\u001b[0m\u001b[1;33m.\u001b[0m\u001b[0mfind_all\u001b[0m\u001b[1;33m(\u001b[0m\u001b[0mattrs\u001b[0m\u001b[1;33m=\u001b[0m\u001b[1;33m{\u001b[0m\u001b[1;34m\"data-testid\"\u001b[0m\u001b[1;33m:\u001b[0m \u001b[1;34m\"wineCard\"\u001b[0m\u001b[1;33m}\u001b[0m\u001b[1;33m)\u001b[0m\u001b[1;33m[\u001b[0m\u001b[0mcounter\u001b[0m\u001b[1;33m]\u001b[0m\u001b[1;33m.\u001b[0m\u001b[0mfind_all\u001b[0m\u001b[1;33m(\u001b[0m\u001b[0mattrs\u001b[0m\u001b[1;33m=\u001b[0m\u001b[1;33m{\u001b[0m\u001b[1;34m\"class\"\u001b[0m\u001b[1;33m:\u001b[0m \u001b[1;34m\"vivinoRating__caption--3tZeS\"\u001b[0m\u001b[1;33m}\u001b[0m\u001b[1;33m)\u001b[0m\u001b[1;33m[\u001b[0m\u001b[1;36m0\u001b[0m\u001b[1;33m]\u001b[0m\u001b[1;33m.\u001b[0m\u001b[0mtext\u001b[0m\u001b[1;33m\u001b[0m\u001b[1;33m\u001b[0m\u001b[0m\n",
      "\u001b[1;32m~\\Documents\\a\\lib\\site-packages\\bs4\\element.py\u001b[0m in \u001b[0;36mfind_all\u001b[1;34m(self, name, attrs, recursive, text, limit, **kwargs)\u001b[0m\n\u001b[0;32m   1786\u001b[0m         \u001b[1;32mif\u001b[0m \u001b[1;32mnot\u001b[0m \u001b[0mrecursive\u001b[0m\u001b[1;33m:\u001b[0m\u001b[1;33m\u001b[0m\u001b[1;33m\u001b[0m\u001b[0m\n\u001b[0;32m   1787\u001b[0m             \u001b[0mgenerator\u001b[0m \u001b[1;33m=\u001b[0m \u001b[0mself\u001b[0m\u001b[1;33m.\u001b[0m\u001b[0mchildren\u001b[0m\u001b[1;33m\u001b[0m\u001b[1;33m\u001b[0m\u001b[0m\n\u001b[1;32m-> 1788\u001b[1;33m         \u001b[1;32mreturn\u001b[0m \u001b[0mself\u001b[0m\u001b[1;33m.\u001b[0m\u001b[0m_find_all\u001b[0m\u001b[1;33m(\u001b[0m\u001b[0mname\u001b[0m\u001b[1;33m,\u001b[0m \u001b[0mattrs\u001b[0m\u001b[1;33m,\u001b[0m \u001b[0mtext\u001b[0m\u001b[1;33m,\u001b[0m \u001b[0mlimit\u001b[0m\u001b[1;33m,\u001b[0m \u001b[0mgenerator\u001b[0m\u001b[1;33m,\u001b[0m \u001b[1;33m**\u001b[0m\u001b[0mkwargs\u001b[0m\u001b[1;33m)\u001b[0m\u001b[1;33m\u001b[0m\u001b[1;33m\u001b[0m\u001b[0m\n\u001b[0m\u001b[0;32m   1789\u001b[0m     \u001b[0mfindAll\u001b[0m \u001b[1;33m=\u001b[0m \u001b[0mfind_all\u001b[0m       \u001b[1;31m# BS3\u001b[0m\u001b[1;33m\u001b[0m\u001b[1;33m\u001b[0m\u001b[0m\n\u001b[0;32m   1790\u001b[0m     \u001b[0mfindChildren\u001b[0m \u001b[1;33m=\u001b[0m \u001b[0mfind_all\u001b[0m  \u001b[1;31m# BS2\u001b[0m\u001b[1;33m\u001b[0m\u001b[1;33m\u001b[0m\u001b[0m\n",
      "\u001b[1;32m~\\Documents\\a\\lib\\site-packages\\bs4\\element.py\u001b[0m in \u001b[0;36m_find_all\u001b[1;34m(self, name, attrs, text, limit, generator, **kwargs)\u001b[0m\n\u001b[0;32m    781\u001b[0m                 \u001b[1;32mbreak\u001b[0m\u001b[1;33m\u001b[0m\u001b[1;33m\u001b[0m\u001b[0m\n\u001b[0;32m    782\u001b[0m             \u001b[1;32mif\u001b[0m \u001b[0mi\u001b[0m\u001b[1;33m:\u001b[0m\u001b[1;33m\u001b[0m\u001b[1;33m\u001b[0m\u001b[0m\n\u001b[1;32m--> 783\u001b[1;33m                 \u001b[0mfound\u001b[0m \u001b[1;33m=\u001b[0m \u001b[0mstrainer\u001b[0m\u001b[1;33m.\u001b[0m\u001b[0msearch\u001b[0m\u001b[1;33m(\u001b[0m\u001b[0mi\u001b[0m\u001b[1;33m)\u001b[0m\u001b[1;33m\u001b[0m\u001b[1;33m\u001b[0m\u001b[0m\n\u001b[0m\u001b[0;32m    784\u001b[0m                 \u001b[1;32mif\u001b[0m \u001b[0mfound\u001b[0m\u001b[1;33m:\u001b[0m\u001b[1;33m\u001b[0m\u001b[1;33m\u001b[0m\u001b[0m\n\u001b[0;32m    785\u001b[0m                     \u001b[0mresults\u001b[0m\u001b[1;33m.\u001b[0m\u001b[0mappend\u001b[0m\u001b[1;33m(\u001b[0m\u001b[0mfound\u001b[0m\u001b[1;33m)\u001b[0m\u001b[1;33m\u001b[0m\u001b[1;33m\u001b[0m\u001b[0m\n",
      "\u001b[1;32m~\\Documents\\a\\lib\\site-packages\\bs4\\element.py\u001b[0m in \u001b[0;36msearch\u001b[1;34m(self, markup)\u001b[0m\n\u001b[0;32m   2067\u001b[0m         \u001b[1;32melif\u001b[0m \u001b[0misinstance\u001b[0m\u001b[1;33m(\u001b[0m\u001b[0mmarkup\u001b[0m\u001b[1;33m,\u001b[0m \u001b[0mNavigableString\u001b[0m\u001b[1;33m)\u001b[0m \u001b[1;32mor\u001b[0m\u001b[0;31m \u001b[0m\u001b[0;31m\\\u001b[0m\u001b[1;33m\u001b[0m\u001b[1;33m\u001b[0m\u001b[0m\n\u001b[0;32m   2068\u001b[0m                  \u001b[0misinstance\u001b[0m\u001b[1;33m(\u001b[0m\u001b[0mmarkup\u001b[0m\u001b[1;33m,\u001b[0m \u001b[0mstr\u001b[0m\u001b[1;33m)\u001b[0m\u001b[1;33m:\u001b[0m\u001b[1;33m\u001b[0m\u001b[1;33m\u001b[0m\u001b[0m\n\u001b[1;32m-> 2069\u001b[1;33m             \u001b[1;32mif\u001b[0m \u001b[1;32mnot\u001b[0m \u001b[0mself\u001b[0m\u001b[1;33m.\u001b[0m\u001b[0mname\u001b[0m \u001b[1;32mand\u001b[0m \u001b[1;32mnot\u001b[0m \u001b[0mself\u001b[0m\u001b[1;33m.\u001b[0m\u001b[0mattrs\u001b[0m \u001b[1;32mand\u001b[0m \u001b[0mself\u001b[0m\u001b[1;33m.\u001b[0m\u001b[0m_matches\u001b[0m\u001b[1;33m(\u001b[0m\u001b[0mmarkup\u001b[0m\u001b[1;33m,\u001b[0m \u001b[0mself\u001b[0m\u001b[1;33m.\u001b[0m\u001b[0mtext\u001b[0m\u001b[1;33m)\u001b[0m\u001b[1;33m:\u001b[0m\u001b[1;33m\u001b[0m\u001b[1;33m\u001b[0m\u001b[0m\n\u001b[0m\u001b[0;32m   2070\u001b[0m                 \u001b[0mfound\u001b[0m \u001b[1;33m=\u001b[0m \u001b[0mmarkup\u001b[0m\u001b[1;33m\u001b[0m\u001b[1;33m\u001b[0m\u001b[0m\n\u001b[0;32m   2071\u001b[0m         \u001b[1;32melse\u001b[0m\u001b[1;33m:\u001b[0m\u001b[1;33m\u001b[0m\u001b[1;33m\u001b[0m\u001b[0m\n",
      "\u001b[1;31mKeyboardInterrupt\u001b[0m: "
     ]
    }
   ],
   "source": []
  },
  {
   "cell_type": "code",
   "execution_count": 17,
   "id": "932ded86",
   "metadata": {},
   "outputs": [],
   "source": []
  },
  {
   "cell_type": "code",
   "execution_count": null,
   "id": "45b571de",
   "metadata": {},
   "outputs": [],
   "source": []
  }
 ],
 "metadata": {
  "kernelspec": {
   "display_name": "Python 3",
   "language": "python",
   "name": "python3"
  },
  "language_info": {
   "codemirror_mode": {
    "name": "ipython",
    "version": 3
   },
   "file_extension": ".py",
   "mimetype": "text/x-python",
   "name": "python",
   "nbconvert_exporter": "python",
   "pygments_lexer": "ipython3",
   "version": "3.8.8"
  }
 },
 "nbformat": 4,
 "nbformat_minor": 5
}
